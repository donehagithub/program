{
 "cells": [
  {
   "cell_type": "code",
   "execution_count": 1,
   "metadata": {},
   "outputs": [
    {
     "name": "stdout",
     "output_type": "stream",
     "text": [
      "Welcome to the Number Guessing Game!\n",
      "I have chosen a random number between 1 and 100. Try to guess it!\n",
      "Too low! Try again.\n",
      "Too low! Try again.\n",
      "Too low! Try again.\n",
      "Too low! Try again.\n",
      "Too high! Try again.\n",
      "Too low! Try again.\n",
      "Too low! Try again.\n",
      "Too low! Try again.\n",
      "Too high! Try again.\n",
      "Too high! Try again.\n",
      "Congratulations! You guessed the correct number 77 in 11 attempts.\n"
     ]
    }
   ],
   "source": [
    "import random\n",
    "\n",
    "def number_guessing_game():\n",
    "    print(\"Welcome to the Number Guessing Game!\")\n",
    "    print(\"I have chosen a random number between 1 and 100. Try to guess it!\")\n",
    "\n",
    "    # Generate a random number between 1 and 100\n",
    "    secret_number = random.randint(1, 100)\n",
    "\n",
    "    attempts = 0\n",
    "\n",
    "    while True:\n",
    "        try:\n",
    "            # Prompt the user for a guess\n",
    "            user_guess = int(input(\"Enter your guess: \"))\n",
    "\n",
    "            # Increment the attempts\n",
    "            attempts += 1\n",
    "\n",
    "            # Check if the guess is correct\n",
    "            if user_guess == secret_number:\n",
    "                print(f\"Congratulations! You guessed the correct number {secret_number} in {attempts} attempts.\")\n",
    "                break\n",
    "            elif user_guess < secret_number:\n",
    "                print(\"Too low! Try again.\")\n",
    "            else:\n",
    "                print(\"Too high! Try again.\")\n",
    "\n",
    "        except ValueError:\n",
    "            print(\"Please enter a valid number.\")\n",
    "\n",
    "if __name__ == \"__main__\":\n",
    "    number_guessing_game()\n",
    "     "
   ]
  }
 ],
 "metadata": {
  "kernelspec": {
   "display_name": "Python 3",
   "language": "python",
   "name": "python3"
  },
  "language_info": {
   "codemirror_mode": {
    "name": "ipython",
    "version": 3
   },
   "file_extension": ".py",
   "mimetype": "text/x-python",
   "name": "python",
   "nbconvert_exporter": "python",
   "pygments_lexer": "ipython3",
   "version": "3.12.1"
  }
 },
 "nbformat": 4,
 "nbformat_minor": 2
}
