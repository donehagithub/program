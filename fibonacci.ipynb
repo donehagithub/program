{
 "cells": [
  {
   "cell_type": "code",
   "execution_count": 1,
   "metadata": {},
   "outputs": [
    {
     "name": "stdout",
     "output_type": "stream",
     "text": [
      "Fibonacci Series = 0, 1, 1, 2, 3, 5, 8, 13, 21, 34, "
     ]
    }
   ],
   "source": [
    "ft = 0\n",
    "st = 1\n",
    "n = int(input(\"Enter No. of Terms: \"))\n",
    "\n",
    "print(f\"Fibonacci Series = {ft}, {st}\", end=\", \")\n",
    "\n",
    "for i in range(1, n-1):\n",
    "    nt = ft + st\n",
    "    print(f\"{nt}\", end=\", \")\n",
    "    ft, st = st, nt"
   ]
  }
 ],
 "metadata": {
  "kernelspec": {
   "display_name": "Python 3",
   "language": "python",
   "name": "python3"
  },
  "language_info": {
   "codemirror_mode": {
    "name": "ipython",
    "version": 3
   },
   "file_extension": ".py",
   "mimetype": "text/x-python",
   "name": "python",
   "nbconvert_exporter": "python",
   "pygments_lexer": "ipython3",
   "version": "3.12.1"
  }
 },
 "nbformat": 4,
 "nbformat_minor": 2
}
